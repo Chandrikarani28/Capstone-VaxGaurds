{
 "cells": [
  {
   "cell_type": "code",
   "execution_count": null,
   "id": "a0a7c5e6",
   "metadata": {},
   "outputs": [],
   "source": [
    "!pip install catboost"
   ]
  },
  {
   "cell_type": "code",
   "execution_count": 1,
   "id": "f040fc88-ff5b-461d-b7bd-e7278375f544",
   "metadata": {},
   "outputs": [],
   "source": [
    "# Import necessary libraries\n",
    "import pandas as pd\n",
    "import numpy as np\n",
    "import warnings\n",
    "import nltk\n",
    "import matplotlib.pyplot as plt\n",
    "from sklearn.feature_extraction.text import TfidfVectorizer\n",
    "from sklearn.pipeline import Pipeline\n",
    "from sklearn.compose import ColumnTransformer\n",
    "from sklearn.preprocessing import StandardScaler\n",
    "from sklearn.model_selection import train_test_split\n",
    "from sklearn.linear_model import LogisticRegression\n",
    "from sklearn.ensemble import AdaBoostClassifier, RandomForestClassifier\n",
    "from sklearn.metrics import classification_report, confusion_matrix, accuracy_score, ConfusionMatrixDisplay, RocCurveDisplay\n",
    "from sklearn.preprocessing import OneHotEncoder\n",
    "from catboost import CatBoostClassifier\n",
    "from imblearn.pipeline import Pipeline as ImbPipeline\n",
    "from sklearn.metrics import roc_auc_score"
   ]
  },
  {
   "cell_type": "code",
   "execution_count": 2,
   "id": "f608eae3-5234-44e6-aa6a-14557eb4f13e",
   "metadata": {},
   "outputs": [],
   "source": [
    "custom_stopwords = nltk.corpus.stopwords.words('english')\n",
    "\n",
    "stopword_list = ['moderna', 'flu', 'mrna', 'vaccine', 'the', 'patient', 'pfizer', \n",
    "                 'biontech', 'nan', 'none', 'mg', 'medical', 'history', 'allergy', \n",
    "                 'year', 'old','uk','nkda','nka','known','reported','listed']"
   ]
  },
  {
   "cell_type": "code",
   "execution_count": 3,
   "id": "467e9bb7-6443-402a-b1db-2330e9505b62",
   "metadata": {},
   "outputs": [],
   "source": [
    "textTransformer_0 = Pipeline(steps=[\n",
    "    ('text_bow', TfidfVectorizer(lowercase=True,\\\n",
    "                                 token_pattern=r\"(?u)\\b\\w+\\b\",\\\n",
    "                                 stop_words=stopword_list,\n",
    "                                 ngram_range=(2, 2),max_features=5000))])"
   ]
  },
  {
   "cell_type": "code",
   "execution_count": 4,
   "id": "2b201fc4-9393-4673-b7a6-d1829daba9af",
   "metadata": {},
   "outputs": [],
   "source": [
    "# Apply text preprocessing to the necessary text columns\n",
    "tfidfprocess = ColumnTransformer(transformers=[\n",
    "    ('text1', textTransformer_0, 'SYMPTOM_TEXT'),\n",
    "    ('text2', textTransformer_0, 'OTHER_MEDS'),\n",
    "    ('text3', textTransformer_0, 'CUR_ILL'),\n",
    "    ('text4', textTransformer_0, 'HISTORY'),\n",
    "    ('text5', textTransformer_0, 'ALLERGIES'),\n",
    "    ('num', StandardScaler(), ['AGE_YRS', 'HOSPDAYS'])  # StandardScaler for numerical columns\n",
    "], remainder='passthrough')"
   ]
  },
  {
   "cell_type": "code",
   "execution_count": null,
   "id": "a482e28f-f5e7-4917-8c97-7bb171fa2682",
   "metadata": {},
   "outputs": [],
   "source": []
  },
  {
   "cell_type": "code",
   "execution_count": 9,
   "id": "85776672-2a48-4a73-aa1a-b3e768360b20",
   "metadata": {},
   "outputs": [],
   "source": [
    "varzos_clean = pd.read_csv(r'C:/Users/chand/Downloads/606/varzos_ML.csv')"
   ]
  },
  {
   "cell_type": "code",
   "execution_count": 10,
   "id": "393d030a",
   "metadata": {},
   "outputs": [],
   "source": [
    "# One-hot encode VAX_MANU (vaccine manufacturer column)\n",
    "vaccine_data = pd.get_dummies(varzos_clean.VAX_MANU, prefix='VAX_MANU')\n",
    "varzos_clean = pd.merge(varzos_clean, vaccine_data, left_index=True, right_index=True)\n",
    "\n",
    "\n",
    "# Drop the original vaccine manufacturer column (VAX_MANU)\n",
    "varzos_clean = varzos_clean.drop('VAX_MANU', axis=1)"
   ]
  },
  {
   "cell_type": "code",
   "execution_count": 13,
   "id": "a7fd572e-1ebf-417c-8dab-e3e1708d7b66",
   "metadata": {},
   "outputs": [
    {
     "name": "stdout",
     "output_type": "stream",
     "text": [
      "Training examples: 40,589\n",
      "Test examples: 17,396\n"
     ]
    }
   ],
   "source": [
    "from sklearn.model_selection import train_test_split\n",
    "\n",
    "y=varzos_clean.SERIOUS\n",
    "X=varzos_clean.drop(['SERIOUS','SYMPTOM1','SYMPTOM2','SYMPTOM3','SYMPTOM4',\n",
    "                    'SYMPTOM5'], axis=1)\n",
    "X_train, X_test, y_train, y_test = train_test_split(X, y, test_size=.3, \n",
    "                                                    random_state=200, stratify=y)\n",
    "\n",
    "print(f'Training examples: {X_train.shape[0]:,}')\n",
    "print(f'Test examples: {X_test.shape[0]:,}')"
   ]
  },
  {
   "cell_type": "code",
   "execution_count": 15,
   "id": "15037221",
   "metadata": {},
   "outputs": [
    {
     "name": "stdout",
     "output_type": "stream",
     "text": [
      "Index(['AGE_YRS', 'SEX', 'SYMPTOM_TEXT', 'DIED', 'L_THREAT', 'HOSPITAL',\n",
      "       'HOSPDAYS', 'DISABLE', 'RECOVD', 'OTHER_MEDS', 'CUR_ILL', 'HISTORY',\n",
      "       'BIRTH_DEFECT', 'ALLERGIES', 'VAX_MANU_GLAXOSMITHKLINE BIOLOGICALS',\n",
      "       'VAX_MANU_MERCK & CO. INC.'],\n",
      "      dtype='object')\n"
     ]
    }
   ],
   "source": [
    "print(X_train.columns)"
   ]
  },
  {
   "cell_type": "code",
   "execution_count": 21,
   "id": "cbb5dc6e-ef91-41f2-98ba-1aec7517d4be",
   "metadata": {},
   "outputs": [
    {
     "name": "stdout",
     "output_type": "stream",
     "text": [
      "\n",
      "CatBoost Model (Default Threshold):\n",
      "Accuracy: 0.9552770751896987\n",
      "Classification Report:\n",
      "               precision    recall  f1-score   support\n",
      "\n",
      "           0       0.98      0.97      0.98     15843\n",
      "           1       0.73      0.78      0.76      1553\n",
      "\n",
      "    accuracy                           0.96     17396\n",
      "   macro avg       0.86      0.88      0.87     17396\n",
      "weighted avg       0.96      0.96      0.96     17396\n",
      "\n",
      "Confusion Matrix:\n",
      " [[15402   441]\n",
      " [  337  1216]]\n",
      "\n",
      "CatBoost Model with Threshold Adjustment:\n",
      "Accuracy: 0.9137157967348816\n",
      "Classification Report:\n",
      "               precision    recall  f1-score   support\n",
      "\n",
      "           0       0.98      0.92      0.95     15843\n",
      "           1       0.51      0.84      0.63      1553\n",
      "\n",
      "    accuracy                           0.91     17396\n",
      "   macro avg       0.75      0.88      0.79     17396\n",
      "weighted avg       0.94      0.91      0.92     17396\n",
      "\n",
      "Confusion Matrix:\n",
      " [[14592  1251]\n",
      " [  250  1303]]\n"
     ]
    }
   ],
   "source": [
    "from sklearn.utils.class_weight import compute_class_weight\n",
    "\n",
    "# Function for threshold adjustment\n",
    "def adjust_threshold(probabilities, threshold=0.5):\n",
    "    \"\"\"Adjust prediction probabilities based on a custom threshold.\"\"\"\n",
    "    return (probabilities[:, 1] >= threshold).astype(int)\n",
    "\n",
    "# Compute class weights\n",
    "class_weight = compute_class_weight(\n",
    "    class_weight='balanced',\n",
    "    classes=np.unique(y_train),\n",
    "    y=y_train\n",
    ")\n",
    "class_weight_dict = dict(zip(np.unique(y_train), class_weight))\n",
    "\n",
    "# Calculate scale_pos_weight for CatBoost\n",
    "num_positive = np.sum(y_train == 1)\n",
    "num_negative = np.sum(y_train == 0)\n",
    "scale_pos_weight = num_negative / num_positive\n",
    "\n",
    "# CatBoost pipeline including preprocessing\n",
    "pipeline_catboost = Pipeline(steps=[\n",
    "    ('tfidf', tfidfprocess),\n",
    "    ('classifier', CatBoostClassifier(random_state=200, scale_pos_weight=scale_pos_weight, verbose=0))\n",
    "])\n",
    "\n",
    "# Fit the CatBoost pipeline\n",
    "pipeline_catboost.fit(X_train, y_train)\n",
    "\n",
    "# Predict with the standard threshold\n",
    "y_pred_catboost = pipeline_catboost.predict(X_test)\n",
    "\n",
    "# Evaluate the CatBoost model\n",
    "print(\"\\nCatBoost Model (Default Threshold):\")\n",
    "print(\"Accuracy:\", accuracy_score(y_test, y_pred_catboost))\n",
    "print(\"Classification Report:\\n\", classification_report(y_test, y_pred_catboost))\n",
    "print(\"Confusion Matrix:\\n\", confusion_matrix(y_test, y_pred_catboost))\n",
    "\n",
    "# Apply preprocessing to transform the training and test data\n",
    "X_train_transformed = tfidfprocess.fit_transform(X_train)\n",
    "X_test_transformed = tfidfprocess.transform(X_test)\n",
    "\n",
    "# Initialize and train the CatBoost model\n",
    "catboost_model = CatBoostClassifier(silent=True, scale_pos_weight=scale_pos_weight, random_state=200)\n",
    "catboost_model.fit(X_train_transformed, y_train)\n",
    "\n",
    "# Predict probabilities and adjust the threshold\n",
    "threshold = 0.3  # Custom threshold\n",
    "y_pred_threshold_catboost = adjust_threshold(catboost_model.predict_proba(X_test_transformed), threshold)\n",
    "\n",
    "# Evaluate the CatBoost model with the adjusted threshold\n",
    "print(\"\\nCatBoost Model with Threshold Adjustment:\")\n",
    "print(\"Accuracy:\", accuracy_score(y_test, y_pred_threshold_catboost))\n",
    "print(\"Classification Report:\\n\", classification_report(y_test, y_pred_threshold_catboost))\n",
    "print(\"Confusion Matrix:\\n\", confusion_matrix(y_test, y_pred_threshold_catboost))"
   ]
  },
  {
   "cell_type": "code",
   "execution_count": 22,
   "id": "f0f81670-b1f3-4634-a540-08977fc2c334",
   "metadata": {},
   "outputs": [],
   "source": [
    "import pickle\n",
    "\n",
    "with open('C:/Users/chand/Downloads/606/varzos.sav', 'wb') as f:\n",
    "    pickle.dump(pipeline_catboost, f)"
   ]
  },
  {
   "cell_type": "code",
   "execution_count": null,
   "id": "48defae1-2bdb-4d26-bb9b-0d9e85e0b072",
   "metadata": {},
   "outputs": [],
   "source": []
  },
  {
   "cell_type": "code",
   "execution_count": 9,
   "id": "c3813176-c418-4a07-a8c7-ba1919b2ad0e",
   "metadata": {},
   "outputs": [],
   "source": [
    "covid_clean =pd.read_csv(r'C:/Users/chand/Downloads/606/covid_ML.csv')"
   ]
  },
  {
   "cell_type": "code",
   "execution_count": 10,
   "id": "732af267-57c1-4c7a-abeb-04eaa0c6c28c",
   "metadata": {},
   "outputs": [],
   "source": [
    "# One-hot encode VAX_MANU (vaccine manufacturer column)\n",
    "vaccine_data = pd.get_dummies(covid_clean.VAX_MANU, prefix='VAX_MANU')\n",
    "covid_clean = pd.merge(covid_clean, vaccine_data, left_index=True, right_index=True)\n",
    "\n",
    "\n",
    "# Drop the original vaccine manufacturer column (VAX_MANU)\n",
    "covid_clean = covid_clean.drop('VAX_MANU', axis=1)"
   ]
  },
  {
   "cell_type": "code",
   "execution_count": 11,
   "id": "370a3e0a-5c1a-4d9e-8e41-9e64438b4b20",
   "metadata": {},
   "outputs": [
    {
     "name": "stdout",
     "output_type": "stream",
     "text": [
      "Training examples: 620,627\n",
      "Test examples: 265,983\n"
     ]
    }
   ],
   "source": [
    "from sklearn.model_selection import train_test_split\n",
    "\n",
    "y=covid_clean.SERIOUS\n",
    "X=covid_clean.drop(['SERIOUS','SYMPTOM1','SYMPTOM2','SYMPTOM3','SYMPTOM4',\n",
    "                    'SYMPTOM5'], axis=1)\n",
    "X_train, X_test, y_train, y_test = train_test_split(X, y, test_size=.3, \n",
    "                                                    random_state=200, stratify=y)\n",
    "\n",
    "print(f'Training examples: {X_train.shape[0]:,}')\n",
    "print(f'Test examples: {X_test.shape[0]:,}')"
   ]
  },
  {
   "cell_type": "code",
   "execution_count": 12,
   "id": "314c0372-f05f-4295-a4ea-fab2ea7e6cfc",
   "metadata": {},
   "outputs": [
    {
     "name": "stdout",
     "output_type": "stream",
     "text": [
      "Index(['AGE_YRS', 'SEX', 'SYMPTOM_TEXT', 'DIED', 'L_THREAT', 'HOSPITAL',\n",
      "       'HOSPDAYS', 'DISABLE', 'RECOVD', 'OTHER_MEDS', 'CUR_ILL', 'HISTORY',\n",
      "       'BIRTH_DEFECT', 'ALLERGIES', 'VAX_MANU_JANSSEN', 'VAX_MANU_MODERNA',\n",
      "       'VAX_MANU_NOVAVAX', 'VAX_MANU_PFIZER\\BIONTECH'],\n",
      "      dtype='object')\n"
     ]
    }
   ],
   "source": [
    "print(X_train.columns)"
   ]
  },
  {
   "cell_type": "code",
   "execution_count": 13,
   "id": "182d91d3-ce22-4386-a28d-0887a30a793f",
   "metadata": {},
   "outputs": [
    {
     "name": "stdout",
     "output_type": "stream",
     "text": [
      "\n",
      "CatBoost Model (Default Threshold):\n",
      "Accuracy: 0.9350935962072764\n",
      "Classification Report:\n",
      "               precision    recall  f1-score   support\n",
      "\n",
      "           0       0.95      0.97      0.96    203584\n",
      "           1       0.88      0.84      0.86     62399\n",
      "\n",
      "    accuracy                           0.94    265983\n",
      "   macro avg       0.92      0.90      0.91    265983\n",
      "weighted avg       0.93      0.94      0.93    265983\n",
      "\n",
      "Confusion Matrix:\n",
      " [[196517   7067]\n",
      " [ 10197  52202]]\n"
     ]
    }
   ],
   "source": [
    "from sklearn.utils.class_weight import compute_class_weight\n",
    "\n",
    "# Function for threshold adjustment\n",
    "def adjust_threshold(probabilities, threshold=0.5):\n",
    "    \"\"\"Adjust prediction probabilities based on a custom threshold.\"\"\"\n",
    "    return (probabilities[:, 1] >= threshold).astype(int)\n",
    "\n",
    "# Compute class weights\n",
    "class_weight = compute_class_weight(\n",
    "    class_weight='balanced',\n",
    "    classes=np.unique(y_train),\n",
    "    y=y_train\n",
    ")\n",
    "class_weight_dict = dict(zip(np.unique(y_train), class_weight))\n",
    "\n",
    "# Calculate scale_pos_weight for CatBoost\n",
    "num_positive = np.sum(y_train == 1)\n",
    "num_negative = np.sum(y_train == 0)\n",
    "scale_pos_weight = num_negative / num_positive\n",
    "\n",
    "# CatBoost pipeline including preprocessing\n",
    "pipeline_catboost = Pipeline(steps=[\n",
    "    ('tfidf', tfidfprocess),\n",
    "    ('classifier', CatBoostClassifier(random_state=200, scale_pos_weight=scale_pos_weight, verbose=0))\n",
    "])\n",
    "\n",
    "# Fit the CatBoost pipeline\n",
    "pipeline_catboost.fit(X_train, y_train)\n",
    "\n",
    "# Predict with the standard threshold\n",
    "y_pred_catboost = pipeline_catboost.predict(X_test)\n",
    "\n",
    "# Evaluate the CatBoost model\n",
    "print(\"\\nCatBoost Model (Default Threshold):\")\n",
    "print(\"Accuracy:\", accuracy_score(y_test, y_pred_catboost))\n",
    "print(\"Classification Report:\\n\", classification_report(y_test, y_pred_catboost))\n",
    "print(\"Confusion Matrix:\\n\", confusion_matrix(y_test, y_pred_catboost))\n",
    "\n"
   ]
  },
  {
   "cell_type": "code",
   "execution_count": 18,
   "id": "4ebd679a-e98c-4f23-937a-f5eb8714433b",
   "metadata": {},
   "outputs": [
    {
     "name": "stdout",
     "output_type": "stream",
     "text": [
      "\n",
      "CatBoost Model with Threshold Adjustment:\n",
      "Accuracy: 0.8945233341980503\n",
      "Classification Report:\n",
      "               precision    recall  f1-score   support\n",
      "\n",
      "           0       0.97      0.89      0.93    203584\n",
      "           1       0.72      0.90      0.80     62399\n",
      "\n",
      "    accuracy                           0.89    265983\n",
      "   macro avg       0.84      0.89      0.86    265983\n",
      "weighted avg       0.91      0.89      0.90    265983\n",
      "\n",
      "Confusion Matrix:\n",
      " [[182044  21540]\n",
      " [  6515  55884]]\n"
     ]
    }
   ],
   "source": [
    "# Apply preprocessing to transform the training and test data\n",
    "X_train_transformed = tfidfprocess.fit_transform(X_train)\n",
    "X_test_transformed = tfidfprocess.transform(X_test)\n",
    "\n",
    "# Initialize and train the CatBoost model\n",
    "catboost_model = CatBoostClassifier(silent=True, scale_pos_weight=scale_pos_weight, random_state=200)\n",
    "catboost_model.fit(X_train_transformed, y_train)\n",
    "\n",
    "# Predict probabilities and adjust the threshold\n",
    "threshold = 0.3  # Custom threshold\n",
    "y_pred_threshold_catboost = adjust_threshold(catboost_model.predict_proba(X_test_transformed), threshold)\n",
    "\n",
    "# Evaluate the CatBoost model with the adjusted threshold\n",
    "print(\"\\nCatBoost Model with Threshold Adjustment:\")\n",
    "print(\"Accuracy:\", accuracy_score(y_test, y_pred_threshold_catboost))\n",
    "print(\"Classification Report:\\n\", classification_report(y_test, y_pred_threshold_catboost))\n",
    "print(\"Confusion Matrix:\\n\", confusion_matrix(y_test, y_pred_threshold_catboost))"
   ]
  },
  {
   "cell_type": "code",
   "execution_count": 19,
   "id": "dd41b3fb-e3e7-48d9-8273-8b200c6d9ca9",
   "metadata": {},
   "outputs": [],
   "source": [
    "import pickle\n",
    "\n",
    "with open('C:/Users/chand/Downloads/606/covid.sav', 'wb') as f:\n",
    "    pickle.dump(pipeline_catboost, f)"
   ]
  },
  {
   "cell_type": "code",
   "execution_count": null,
   "id": "db28d088-72bd-4d16-ba5e-3e094c88f5e0",
   "metadata": {},
   "outputs": [],
   "source": []
  },
  {
   "cell_type": "code",
   "execution_count": 23,
   "id": "e5db2380-3799-4546-893f-d34829e83712",
   "metadata": {},
   "outputs": [],
   "source": [
    "ppv_clean =pd.read_csv(r'C:/Users/chand/Downloads/606/ppv_ML.csv')"
   ]
  },
  {
   "cell_type": "code",
   "execution_count": 24,
   "id": "7f721c4a-4171-46ac-8519-5b664235bbe6",
   "metadata": {},
   "outputs": [],
   "source": [
    "# One-hot encode VAX_MANU (vaccine manufacturer column)\n",
    "vaccine_data = pd.get_dummies(ppv_clean.VAX_MANU, prefix='VAX_MANU')\n",
    "ppv_clean = pd.merge(ppv_clean, vaccine_data, left_index=True, right_index=True)\n",
    "\n",
    "\n",
    "# Drop the original vaccine manufacturer column (VAX_MANU)\n",
    "ppv_clean = ppv_clean.drop('VAX_MANU', axis=1)"
   ]
  },
  {
   "cell_type": "code",
   "execution_count": 25,
   "id": "097ae2e3-bb28-4da2-89c6-bc02640743ca",
   "metadata": {},
   "outputs": [
    {
     "name": "stdout",
     "output_type": "stream",
     "text": [
      "Training examples: 10,119\n",
      "Test examples: 4,337\n"
     ]
    }
   ],
   "source": [
    "from sklearn.model_selection import train_test_split\n",
    "\n",
    "y=ppv_clean.SERIOUS\n",
    "X=ppv_clean.drop(['SERIOUS','SYMPTOM1','SYMPTOM2','SYMPTOM3','SYMPTOM4',\n",
    "                    'SYMPTOM5'], axis=1)\n",
    "X_train, X_test, y_train, y_test = train_test_split(X, y, test_size=.3, \n",
    "                                                    random_state=200, stratify=y)\n",
    "\n",
    "print(f'Training examples: {X_train.shape[0]:,}')\n",
    "print(f'Test examples: {X_test.shape[0]:,}')"
   ]
  },
  {
   "cell_type": "code",
   "execution_count": 26,
   "id": "96c8b73b-bf3f-4ab6-825d-759152f267fe",
   "metadata": {},
   "outputs": [
    {
     "name": "stdout",
     "output_type": "stream",
     "text": [
      "\n",
      "CatBoost Model (Default Threshold):\n",
      "Accuracy: 0.9644915840442703\n",
      "Classification Report:\n",
      "               precision    recall  f1-score   support\n",
      "\n",
      "           0       0.98      0.98      0.98      3923\n",
      "           1       0.82      0.80      0.81       414\n",
      "\n",
      "    accuracy                           0.96      4337\n",
      "   macro avg       0.90      0.89      0.90      4337\n",
      "weighted avg       0.96      0.96      0.96      4337\n",
      "\n",
      "Confusion Matrix:\n",
      " [[3850   73]\n",
      " [  81  333]]\n",
      "\n",
      "CatBoost Model with Threshold Adjustment:\n",
      "Accuracy: 0.9513488586580585\n",
      "Classification Report:\n",
      "               precision    recall  f1-score   support\n",
      "\n",
      "           0       0.98      0.97      0.97      3923\n",
      "           1       0.71      0.82      0.76       414\n",
      "\n",
      "    accuracy                           0.95      4337\n",
      "   macro avg       0.85      0.89      0.87      4337\n",
      "weighted avg       0.96      0.95      0.95      4337\n",
      "\n",
      "Confusion Matrix:\n",
      " [[3787  136]\n",
      " [  75  339]]\n"
     ]
    }
   ],
   "source": [
    "from sklearn.utils.class_weight import compute_class_weight\n",
    "\n",
    "# Function for threshold adjustment\n",
    "def adjust_threshold(probabilities, threshold=0.5):\n",
    "    \"\"\"Adjust prediction probabilities based on a custom threshold.\"\"\"\n",
    "    return (probabilities[:, 1] >= threshold).astype(int)\n",
    "\n",
    "# Compute class weights\n",
    "class_weight = compute_class_weight(\n",
    "    class_weight='balanced',\n",
    "    classes=np.unique(y_train),\n",
    "    y=y_train\n",
    ")\n",
    "class_weight_dict = dict(zip(np.unique(y_train), class_weight))\n",
    "\n",
    "# Calculate scale_pos_weight for CatBoost\n",
    "num_positive = np.sum(y_train == 1)\n",
    "num_negative = np.sum(y_train == 0)\n",
    "scale_pos_weight = num_negative / num_positive\n",
    "\n",
    "# CatBoost pipeline including preprocessing\n",
    "pipeline_catboost = Pipeline(steps=[\n",
    "    ('tfidf', tfidfprocess),\n",
    "    ('classifier', CatBoostClassifier(random_state=200, scale_pos_weight=scale_pos_weight, verbose=0))\n",
    "])\n",
    "\n",
    "# Fit the CatBoost pipeline\n",
    "pipeline_catboost.fit(X_train, y_train)\n",
    "\n",
    "# Predict with the standard threshold\n",
    "y_pred_catboost = pipeline_catboost.predict(X_test)\n",
    "\n",
    "# Evaluate the CatBoost model\n",
    "print(\"\\nCatBoost Model (Default Threshold):\")\n",
    "print(\"Accuracy:\", accuracy_score(y_test, y_pred_catboost))\n",
    "print(\"Classification Report:\\n\", classification_report(y_test, y_pred_catboost))\n",
    "print(\"Confusion Matrix:\\n\", confusion_matrix(y_test, y_pred_catboost))\n",
    "\n",
    "# Apply preprocessing to transform the training and test data\n",
    "X_train_transformed = tfidfprocess.fit_transform(X_train)\n",
    "X_test_transformed = tfidfprocess.transform(X_test)\n",
    "\n",
    "# Initialize and train the CatBoost model\n",
    "catboost_model = CatBoostClassifier(silent=True, scale_pos_weight=scale_pos_weight, random_state=200)\n",
    "catboost_model.fit(X_train_transformed, y_train)\n",
    "\n",
    "# Predict probabilities and adjust the threshold\n",
    "threshold = 0.3  # Custom threshold\n",
    "y_pred_threshold_catboost = adjust_threshold(catboost_model.predict_proba(X_test_transformed), threshold)\n",
    "\n",
    "# Evaluate the CatBoost model with the adjusted threshold\n",
    "print(\"\\nCatBoost Model with Threshold Adjustment:\")\n",
    "print(\"Accuracy:\", accuracy_score(y_test, y_pred_threshold_catboost))\n",
    "print(\"Classification Report:\\n\", classification_report(y_test, y_pred_threshold_catboost))\n",
    "print(\"Confusion Matrix:\\n\", confusion_matrix(y_test, y_pred_threshold_catboost))"
   ]
  },
  {
   "cell_type": "code",
   "execution_count": 32,
   "id": "ee0884ab-6bee-44eb-adaf-390353d67b67",
   "metadata": {},
   "outputs": [],
   "source": [
    "import pickle\n",
    "\n",
    "with open('C:/Users/chand/Downloads/606/ppv.sav', 'wb') as f:\n",
    "    pickle.dump(pipeline_catboost, f)"
   ]
  },
  {
   "cell_type": "code",
   "execution_count": null,
   "id": "98c62f85-7b02-4c34-8322-df3d6b0b2669",
   "metadata": {},
   "outputs": [],
   "source": []
  },
  {
   "cell_type": "code",
   "execution_count": null,
   "id": "5c563d8f-69d9-4669-a531-d3e3849b9dfd",
   "metadata": {},
   "outputs": [],
   "source": []
  },
  {
   "cell_type": "code",
   "execution_count": 33,
   "id": "90e8a37b-5dc4-4f01-a83d-9465e34d039e",
   "metadata": {},
   "outputs": [],
   "source": [
    "flu_clean =pd.read_csv(r'C:/Users/chand/Downloads/606/flu_ML.csv')"
   ]
  },
  {
   "cell_type": "code",
   "execution_count": 34,
   "id": "e335fdb7-7a50-4679-b595-2a4533f37607",
   "metadata": {},
   "outputs": [],
   "source": [
    "# One-hot encode VAX_MANU (vaccine manufacturer column)\n",
    "vaccine_data = pd.get_dummies(flu_clean.VAX_MANU, prefix='VAX_MANU')\n",
    "flu_clean = pd.merge(flu_clean, vaccine_data, left_index=True, right_index=True)\n",
    "\n",
    "\n",
    "# Drop the original vaccine manufacturer column (VAX_MANU)\n",
    "flu_clean = flu_clean.drop('VAX_MANU', axis=1)"
   ]
  },
  {
   "cell_type": "code",
   "execution_count": 35,
   "id": "4831cf00-8937-410b-a18a-0b3b89411e62",
   "metadata": {},
   "outputs": [
    {
     "name": "stdout",
     "output_type": "stream",
     "text": [
      "Training examples: 40,375\n",
      "Test examples: 17,304\n"
     ]
    }
   ],
   "source": [
    "from sklearn.model_selection import train_test_split\n",
    "\n",
    "y=flu_clean.SERIOUS\n",
    "X=flu_clean.drop(['SERIOUS','SYMPTOM1','SYMPTOM2','SYMPTOM3','SYMPTOM4',\n",
    "                    'SYMPTOM5'], axis=1)\n",
    "X_train, X_test, y_train, y_test = train_test_split(X, y, test_size=.3, \n",
    "                                                    random_state=200, stratify=y)\n",
    "\n",
    "print(f'Training examples: {X_train.shape[0]:,}')\n",
    "print(f'Test examples: {X_test.shape[0]:,}')"
   ]
  },
  {
   "cell_type": "code",
   "execution_count": 36,
   "id": "9c2d5c16-a140-45a3-931b-e852e56acc9b",
   "metadata": {},
   "outputs": [
    {
     "name": "stdout",
     "output_type": "stream",
     "text": [
      "\n",
      "CatBoost Model (Default Threshold):\n",
      "Accuracy: 0.9407651410078595\n",
      "Classification Report:\n",
      "               precision    recall  f1-score   support\n",
      "\n",
      "           0       0.96      0.97      0.96     14137\n",
      "           1       0.85      0.83      0.84      3167\n",
      "\n",
      "    accuracy                           0.94     17304\n",
      "   macro avg       0.90      0.90      0.90     17304\n",
      "weighted avg       0.94      0.94      0.94     17304\n",
      "\n",
      "Confusion Matrix:\n",
      " [[13658   479]\n",
      " [  546  2621]]\n",
      "\n",
      "CatBoost Model with Threshold Adjustment:\n",
      "Accuracy: 0.9006588072122053\n",
      "Classification Report:\n",
      "               precision    recall  f1-score   support\n",
      "\n",
      "           0       0.97      0.90      0.94     14137\n",
      "           1       0.67      0.89      0.77      3167\n",
      "\n",
      "    accuracy                           0.90     17304\n",
      "   macro avg       0.82      0.90      0.85     17304\n",
      "weighted avg       0.92      0.90      0.91     17304\n",
      "\n",
      "Confusion Matrix:\n",
      " [[12760  1377]\n",
      " [  342  2825]]\n"
     ]
    }
   ],
   "source": [
    "from sklearn.utils.class_weight import compute_class_weight\n",
    "\n",
    "# Function for threshold adjustment\n",
    "def adjust_threshold(probabilities, threshold=0.5):\n",
    "    \"\"\"Adjust prediction probabilities based on a custom threshold.\"\"\"\n",
    "    return (probabilities[:, 1] >= threshold).astype(int)\n",
    "\n",
    "# Compute class weights\n",
    "class_weight = compute_class_weight(\n",
    "    class_weight='balanced',\n",
    "    classes=np.unique(y_train),\n",
    "    y=y_train\n",
    ")\n",
    "class_weight_dict = dict(zip(np.unique(y_train), class_weight))\n",
    "\n",
    "# Calculate scale_pos_weight for CatBoost\n",
    "num_positive = np.sum(y_train == 1)\n",
    "num_negative = np.sum(y_train == 0)\n",
    "scale_pos_weight = num_negative / num_positive\n",
    "\n",
    "# CatBoost pipeline including preprocessing\n",
    "pipeline_catboost = Pipeline(steps=[\n",
    "    ('tfidf', tfidfprocess),\n",
    "    ('classifier', CatBoostClassifier(random_state=200, scale_pos_weight=scale_pos_weight, verbose=0))\n",
    "])\n",
    "\n",
    "# Fit the CatBoost pipeline\n",
    "pipeline_catboost.fit(X_train, y_train)\n",
    "\n",
    "# Predict with the standard threshold\n",
    "y_pred_catboost = pipeline_catboost.predict(X_test)\n",
    "\n",
    "# Evaluate the CatBoost model\n",
    "print(\"\\nCatBoost Model (Default Threshold):\")\n",
    "print(\"Accuracy:\", accuracy_score(y_test, y_pred_catboost))\n",
    "print(\"Classification Report:\\n\", classification_report(y_test, y_pred_catboost))\n",
    "print(\"Confusion Matrix:\\n\", confusion_matrix(y_test, y_pred_catboost))\n",
    "\n",
    "# Apply preprocessing to transform the training and test data\n",
    "X_train_transformed = tfidfprocess.fit_transform(X_train)\n",
    "X_test_transformed = tfidfprocess.transform(X_test)\n",
    "\n",
    "# Initialize and train the CatBoost model\n",
    "catboost_model = CatBoostClassifier(silent=True, scale_pos_weight=scale_pos_weight, random_state=200)\n",
    "catboost_model.fit(X_train_transformed, y_train)\n",
    "\n",
    "# Predict probabilities and adjust the threshold\n",
    "threshold = 0.3  # Custom threshold\n",
    "y_pred_threshold_catboost = adjust_threshold(catboost_model.predict_proba(X_test_transformed), threshold)\n",
    "\n",
    "# Evaluate the CatBoost model with the adjusted threshold\n",
    "print(\"\\nCatBoost Model with Threshold Adjustment:\")\n",
    "print(\"Accuracy:\", accuracy_score(y_test, y_pred_threshold_catboost))\n",
    "print(\"Classification Report:\\n\", classification_report(y_test, y_pred_threshold_catboost))\n",
    "print(\"Confusion Matrix:\\n\", confusion_matrix(y_test, y_pred_threshold_catboost))"
   ]
  },
  {
   "cell_type": "code",
   "execution_count": 38,
   "id": "e88ed185-c749-4e9a-9aae-08b5dc9aad60",
   "metadata": {},
   "outputs": [],
   "source": [
    "import pickle\n",
    "\n",
    "with open('C:/Users/chand/Downloads/606/flu.sav', 'wb') as f:\n",
    "    pickle.dump(pipeline_catboost, f)"
   ]
  },
  {
   "cell_type": "code",
   "execution_count": 42,
   "id": "3c97b061-f64c-4bfd-8daa-40b8f87fd2da",
   "metadata": {},
   "outputs": [],
   "source": [
    "results_df = pd.DataFrame({\n",
    "    'True Labels': y_test,\n",
    "    'Predictions': y_pred_catboost\n",
    "})\n",
    "\n",
    "results_df.to_csv('C:/Users/chand/Downloads/606/predictions.csv', index=False)"
   ]
  },
  {
   "cell_type": "code",
   "execution_count": null,
   "id": "29b441ec-5f3f-495a-b079-9dfd681077a7",
   "metadata": {},
   "outputs": [],
   "source": []
  },
  {
   "cell_type": "code",
   "execution_count": null,
   "id": "6ebc74aa-1096-4e80-b2d8-9e16c2414589",
   "metadata": {},
   "outputs": [],
   "source": []
  }
 ],
 "metadata": {
  "kernelspec": {
   "display_name": "Python 3 (ipykernel)",
   "language": "python",
   "name": "python3"
  },
  "language_info": {
   "codemirror_mode": {
    "name": "ipython",
    "version": 3
   },
   "file_extension": ".py",
   "mimetype": "text/x-python",
   "name": "python",
   "nbconvert_exporter": "python",
   "pygments_lexer": "ipython3",
   "version": "3.12.4"
  }
 },
 "nbformat": 4,
 "nbformat_minor": 5
}
